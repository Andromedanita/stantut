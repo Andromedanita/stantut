{
 "cells": [
  {
   "cell_type": "code",
   "execution_count": null,
   "metadata": {},
   "outputs": [],
   "source": [
    "import numpy as np\n",
    "import matplotlib.pyplot as plt\n",
    "import pystan as stan\n",
    "import corner\n",
    "%matplotlib inline"
   ]
  },
  {
   "cell_type": "code",
   "execution_count": null,
   "metadata": {},
   "outputs": [],
   "source": [
    "# Load data\n",
    "x, y = np.loadtxt(\"linedat.txt\")\n",
    "\n",
    "# Plot data\n",
    "plt.figure(figsize=(8,6))\n",
    "plt.errorbar(x, y, yerr=3, fmt='.')\n",
    "plt.show()"
   ]
  },
  {
   "cell_type": "code",
   "execution_count": null,
   "metadata": {},
   "outputs": [],
   "source": [
    "LineCode = \"\"\"\n",
    "data {\n",
    "    int<lower=0> n; // Number of data points\n",
    "    vector[n] x;\n",
    "    vector[n] y;\n",
    "}\n",
    "\n",
    "parameters {\n",
    "    \n",
    "}\n",
    "\n",
    "transformed parameters {\n",
    "    \n",
    "}\n",
    "\n",
    "model{\n",
    "    \n",
    "}\n",
    "\"\"\"\n",
    "\n",
    "# Compile the model program using the above code\n",
    "LineModel = stan.StanModel(model_code=LineCode)"
   ]
  },
  {
   "cell_type": "code",
   "execution_count": null,
   "metadata": {},
   "outputs": [],
   "source": [
    "# Prepare data dictionary as Stan input\n",
    "LineData = {\"n\" : x.size, \n",
    "            \"x\" : x, \n",
    "            \"y\" : y}\n",
    "\n",
    "# Tell Stan to sample using the model we made and the data we've assembled, we'll have 900 samples\n",
    "LineFit = LineModel.sampling(data=LineData, warmup=100, iter=1000, chains=4)"
   ]
  },
  {
   "cell_type": "code",
   "execution_count": null,
   "metadata": {},
   "outputs": [],
   "source": [
    "P = LineFit.extract(permuted=1) # permuted option merges chains together\n",
    "LineSamples = np.swapaxes(np.array([P['a'], P['b']]), 0, 1) # Output array indices are wrong\n",
    "fig = corner.corner(LineSamples, labels=[\"$a$\", \"$b$\"], show_titles=1)"
   ]
  },
  {
   "cell_type": "code",
   "execution_count": null,
   "metadata": {},
   "outputs": [],
   "source": [
    "plt.figure(figsize=(8,6))\n",
    "plt.errorbar(x, y, yerr=3, fmt='.')\n",
    "xfit = np.array([x.min(), x.max()])\n",
    "plt.plot(xfit, P['a'].mean()*xfit+P['b'].mean())\n",
    "plt.show()"
   ]
  },
  {
   "cell_type": "code",
   "execution_count": null,
   "metadata": {},
   "outputs": [],
   "source": []
  }
 ],
 "metadata": {
  "kernelspec": {
   "display_name": "Python 2",
   "language": "python",
   "name": "python2"
  },
  "language_info": {
   "codemirror_mode": {
    "name": "ipython",
    "version": 2
   },
   "file_extension": ".py",
   "mimetype": "text/x-python",
   "name": "python",
   "nbconvert_exporter": "python",
   "pygments_lexer": "ipython2",
   "version": "2.7.15"
  }
 },
 "nbformat": 4,
 "nbformat_minor": 2
}
